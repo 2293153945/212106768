{
 "cells": [
  {
   "cell_type": "code",
   "execution_count": 10,
   "metadata": {},
   "outputs": [],
   "source": [
    "import requests\n",
    "from bs4 import BeautifulSoup\n",
    "import json\n",
    "import time"
   ]
  },
  {
   "cell_type": "code",
   "execution_count": 11,
   "metadata": {},
   "outputs": [],
   "source": [
    "#要爬取的url商品\n",
    "url='https://j1.pupuapi.com/client/product/storeproduct/detail/deef1dd8-65ee-46bc-9e18-8cf1478a67e9/d1256f94-bc36-43c3-8397-e3dbeb1b2a3b'\n",
    "#请求头\n",
    "headers={\n",
    "    'User-Agent': 'Pupumall/2.9.0;iOS 13.6;E0E88FA1-96E2-4816-BD8C-CBAA595F1A7E'\n",
    "}\n",
    "#response接收请求的响应内容并转为二进制编码\n",
    "response=requests.get(url,headers=headers).content\n"
   ]
  },
  {
   "cell_type": "code",
   "execution_count": 12,
   "metadata": {},
   "outputs": [
    {
     "data": {
      "text/plain": [
       "'{\"errcode\":0,\"errmsg\":\"\",\"data\":{\"id\":\"ef7ba04c-8782-49c1-97d9-c08be2b50f81\",\"price\":690,\"stock_quantity\":10,\"spread_tag\":0,\"market_price\":990,\"discount_rate\":0.7,\"flash_sale_info\":null,\"sell_batches\":[],\"spec\":\"3个\",\"order_remarks\":[],\"activity_ids\":[],\"product_id\":\"d1256f94-bc36-43c3-8397-e3dbeb1b2a3b\",\"name\":\"格林特卫医用N95防护口罩（3个独立装/包）\",\"sub_title\":\"1.医用N95，过滤95%，独立包装。2.使用医用静电熔喷材料，层层净化。\",\"main_image\":\"STORE_PRODUCT/cdc41a95115f4fdab25c4bf36a554162/1628647449399.png\",\"custom_tag_background_color\":\"\",\"custom_tag_text\":\"\",\"custom_tag_is_enabled\":false,\"purchase_type\":0,\"recommendation_image\":\"\",\"origin\":\"福建省厦门市\",\"storage_condition\":\"常温\",\"detail\":\"'"
      ]
     },
     "execution_count": 12,
     "metadata": {},
     "output_type": "execute_result"
    }
   ],
   "source": [
    "#用BeautifulSoup将返回的二进制文件转为树型结构方便提取标签内容\n",
    "soup=BeautifulSoup(response.decode('utf-8'),'html')\n",
    "#找到p标签下的文本\n",
    "soup.p.string"
   ]
  },
  {
   "cell_type": "code",
   "execution_count": 4,
   "metadata": {},
   "outputs": [
    {
     "data": {
      "text/plain": [
       "{'id': 'ef7ba04c-8782-49c1-97d9-c08be2b50f81',\n",
       " 'price': 690,\n",
       " 'stock_quantity': 10,\n",
       " 'spread_tag': 0,\n",
       " 'market_price': 990,\n",
       " 'discount_rate': 0.7,\n",
       " 'flash_sale_info': None,\n",
       " 'sell_batches': [],\n",
       " 'spec': '3个',\n",
       " 'order_remarks': [],\n",
       " 'activity_ids': [],\n",
       " 'product_id': 'd1256f94-bc36-43c3-8397-e3dbeb1b2a3b',\n",
       " 'name': '格林特卫医用N95防护口罩（3个独立装/包）',\n",
       " 'sub_title': '1.医用N95，过滤95%，独立包装。2.使用医用静电熔喷材料，层层净化。',\n",
       " 'main_image': 'STORE_PRODUCT/cdc41a95115f4fdab25c4bf36a554162/1628647449399.png',\n",
       " 'custom_tag_background_color': '',\n",
       " 'custom_tag_text': '',\n",
       " 'custom_tag_is_enabled': False,\n",
       " 'purchase_type': 0,\n",
       " 'recommendation_image': '',\n",
       " 'origin': '福建省厦门市',\n",
       " 'storage_condition': '常温',\n",
       " 'detail': ''}"
      ]
     },
     "execution_count": 4,
     "metadata": {},
     "output_type": "execute_result"
    }
   ],
   "source": [
    "#转为json对象\n",
    "s1=soup.p.string+'\"}}'\n",
    "data=json.loads(s1)['data']\n",
    "data"
   ]
  },
  {
   "cell_type": "code",
   "execution_count": 5,
   "metadata": {},
   "outputs": [
    {
     "name": "stdout",
     "output_type": "stream",
     "text": [
      "----------------------商品:格林特卫医用N95防护口罩（3个独立装/包）---------------------------\n",
      "规格：3个/包\n",
      "价格：6.9元\n",
      "原价/折扣价：9.9元/3.0元\n",
      "详细内容：3个/包,1.医用N95，过滤95%，独立包装。2.使用医用静电熔喷材料，层层净化。\n",
      "\n",
      "\n",
      "---------------------\"格林特卫医用N95防护口罩（3个独立装/包）\"的价格波动---------------------\n",
      "当前时间是:2022-03-16 20:35:26, 价格为6.9\n",
      "当前时间是:2022-03-16 20:35:56, 价格为6.9\n",
      "当前时间是:2022-03-16 20:36:26, 价格为6.9\n",
      "当前时间是:2022-03-16 20:36:57, 价格为6.9\n",
      "当前时间是:2022-03-16 20:37:27, 价格为6.9\n",
      "当前时间是:2022-03-16 20:37:57, 价格为6.9\n",
      "当前时间是:2022-03-16 20:38:27, 价格为6.9\n"
     ]
    }
   ],
   "source": [
    "#将提取data中想要的字段内容打印出来\n",
    "print(\"----------------------商品:\"+data['name']+\"---------------------------\")\n",
    "print(\"规格：\"+data['spec']+\"/包\")\n",
    "print(\"价格：\"+str(data['price']/100)+\"元\")\n",
    "print(\"原价/折扣价：\"+str(data['market_price']/100)+\"元/\"+str((data['market_price']-data['price'])/100)+\"元\")\n",
    "print(\"详细内容：\"+data['spec']+\"/包,\"+data['sub_title'])\n",
    "print()\n",
    "print()\n",
    "print(\"---------------------\\\"\"+data['name']+\"\\\"的价格波动---------------------\")\n",
    "#循环7次重复访问并提取内容\n",
    "for num in range(0,7):\n",
    "    time.sleep(30)#先等待30秒在访问，否则会被限制访问\n",
    "    now= time.strftime('%Y-%m-%d %H:%M:%S',time.localtime())\n",
    "    response=requests.get(url,headers=headers).content\n",
    "    soup=BeautifulSoup(response.decode(),'lxml')\n",
    "    data=json.loads(soup.find('p').text+'\"}}')['data']\n",
    "    print('当前时间是:'+now+', 价格为'+str(data['price']/100))"
   ]
  }
 ],
 "metadata": {
  "kernelspec": {
   "display_name": "Python 3",
   "language": "python",
   "name": "python3"
  },
  "language_info": {
   "codemirror_mode": {
    "name": "ipython",
    "version": 3
   },
   "file_extension": ".py",
   "mimetype": "text/x-python",
   "name": "python",
   "nbconvert_exporter": "python",
   "pygments_lexer": "ipython3",
   "version": "3.7.6"
  }
 },
 "nbformat": 4,
 "nbformat_minor": 4
}
